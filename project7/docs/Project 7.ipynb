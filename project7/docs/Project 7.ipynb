{
 "metadata": {
  "author": "Jessica Bartley",
  "name": "",
  "signature": "sha256:461e44c66da9f9179505660a9ed468d4c734c5b093b579e166176eceed0d4c00"
 },
 "nbformat": 3,
 "nbformat_minor": 0,
 "worksheets": [
  {
   "cells": [
    {
     "cell_type": "markdown",
     "metadata": {},
     "source": [
      "# Project 7: Solving A System of Differential Equations Numerically\n",
      "\n",
      "In this project we will simulate the orbit of a comet within an earth's central gravitational potential. The data to compute are $r$, $\\dot r$, $\\phi$, and $\\dot \\phi$ as functions of time.  The comet moves in a plane that intersects the Earth-Sun orbital plane as in Figure 1 and worked out in more detail in Figure 2. Our $r$ and $\\phi$ are measured in the comet's plane of motion, and this is the path we aim to graph.\n",
      "\n",
      "The geometry of this problem is somewhat complex. Our given initial conditions are measured from the Earth - Sun plane (Figure 1 green / Figure 2 black ) but we are instructed to graph the comet as it travels through the Comet - Sun plane (Figure 1 blue / Figure 2 red). In order to work in this Comet - Sun plane we must transform all vectors by use of a rotation matrix about the z and y axes.\n",
      "\n",
      "[![Coordinate system set up for this problem](Orbit.jpg \"Coordinate system set up for this problem\")](Orbit.jpg)\n",
      "\n",
      "[![Coordinate system set up for this problem](fig2.jpg \"Coordinate system set up for this problem\")](fig2.jpg)\n",
      "\n",
      "First I will explain the physics, then I will talk about how I approached the code. Conservation laws give that the magnitude of the angular momentum does not change over time. Further, the angular momentum vector $\\mathbf{l} = m \\mathbf{r} \\times \\mathbf{\\dot r}$, is always perpendicular to the comet's plane of motion (note, the dot indicates a time derivative.)  In this sense, solving for the angular momentum vector in the Earth - Sun plane tells us how tilted the two planes are with respect to each other.  Our first aim is the find this $\\mathbf{l}$ tilt, and then transform the vector so that it aligns with the z-axis.  Once we have the transformation matrix, we can apply it to the given initial conditions so that all vectors are in the desired Comet - Sun plane.\n",
      "\n",
      "After we transform all vectors into the correct plane we can calculate the radial and angular velocities:\n",
      "\n",
      "\\begin{align}\n",
      "\\frac{\\mathbf r}{r} \\cdot \\mathbf{\\dot r} &= v_r & \\frac{\\mathbf l \\times \\mathbf r}{| \\mathbf l \\times \\mathbf r |} \\cdot \\mathbf{\\dot r} &= v_\\phi\n",
      "\\end{align}\n",
      "\n",
      "We then use these as initial conditions into our set of four coupled differential equations describing the motion of the comet.  For convenience we set the comet's mass to $m_{comet}=1 \\ll m_{sun}$ (and thus the reduced mass becomes $\\frac{m_{comet} m_{sun}} {m_{comet} + m_{sun}} \\approx \\frac{m_{sun}} { m_{sun}} = 1$) then our differential equations are expressed as:\n",
      "\n",
      "\\begin{align}\n",
      "  \\frac{dr}{dt} &= v_r                      & \\frac{d v_r}{dt} &= - \\frac{d U}{dr}\\\\\n",
      "  \\frac{d \\phi}{dt} &= \\frac{v_{\\phi}}{r^2} & \\frac{d v_{\\phi} }{dt} &= 0\n",
      "\\end{align}\n",
      "\n",
      "The potential and its derivative are given by:\n",
      "\n",
      "\\begin{equation}\n",
      "U = \\frac{l^2}{2 r^2} - \\frac{Gm_{sun}}{r} \n",
      "\\end{equation}\n",
      "\\begin{equation}\n",
      "\\frac{d U}{d t} = - \\frac{2l^2}{2 r^3} + \\frac{Gm_{sun}}{r^2}\n",
      "\\end{equation}\n",
      "\n",
      "The initial conditions measured in AU and AU / dar respectively, as given in the Earth-Sun plane are:\n",
      "\n",
      "\\begin{align}\n",
      "\\mathbf r &= \n",
      "  \\begin{pmatrix} 0.3170787 \\\\ -1.887907 \\\\ 0.2396305 \\end{pmatrix}\\\\\n",
      "\\mathbf{\\dot r} &= \n",
      "  \\begin{pmatrix} 0.008180196 \\\\ 0.01188029 \\\\ 0.0006081217 \\end{pmatrix}\n",
      "\\end{align}\n",
      "\n",
      "**The end goal of this project is to make a plot of $r$ vs $\\phi$ which will show the comets' orbital path.**\n",
      "\n",
      "The steps for the code include:\n",
      "\n",
      "1. Input the initial conditions.\n",
      "2. Write a function to transform vectors calculated in the Earth - Sun plane to the Comet - Sun plane and convert the vectors $l$, $\\mathbf{r}(t=0)$ and $\\mathbf{\\dot r}(t=0)$.\n",
      "3. Calculate the initial radial and angular velocities in the Comet - Sun plane.\n",
      "4. Use the built in python \"odeint\" function to solve the system of four coupled differential equations and plot the results.\n",
      "\n",
      "Note: I have found an example python code that uses odeint to solve a system of four coupled differential equations. I have uploaded it with my code. The sample code works but mine does not. I believe I am using the odeint module as per its documentation, but I am not getting the results I should have."
     ]
    }
   ],
   "metadata": {}
  }
 ]
}